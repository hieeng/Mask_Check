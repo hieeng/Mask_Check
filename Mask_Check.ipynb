{
 "cells": [
  {
   "cell_type": "code",
   "execution_count": 1,
   "metadata": {},
   "outputs": [
    {
     "ename": "KeyboardInterrupt",
     "evalue": "",
     "output_type": "error",
     "traceback": [
      "\u001b[1;31m---------------------------------------------------------------------------\u001b[0m",
      "\u001b[1;31mKeyboardInterrupt\u001b[0m                         Traceback (most recent call last)",
      "\u001b[1;32m<ipython-input-1-831a4e2a2f4e>\u001b[0m in \u001b[0;36m<module>\u001b[1;34m\u001b[0m\n\u001b[0;32m     56\u001b[0m     \u001b[1;31m#보여주기\u001b[0m\u001b[1;33m\u001b[0m\u001b[1;33m\u001b[0m\u001b[1;33m\u001b[0m\u001b[0m\n\u001b[0;32m     57\u001b[0m     \u001b[0mcv2\u001b[0m\u001b[1;33m.\u001b[0m\u001b[0mimshow\u001b[0m\u001b[1;33m(\u001b[0m\u001b[1;34m'mask'\u001b[0m\u001b[1;33m,\u001b[0m \u001b[0mimg\u001b[0m\u001b[1;33m)\u001b[0m\u001b[1;33m\u001b[0m\u001b[1;33m\u001b[0m\u001b[0m\n\u001b[1;32m---> 58\u001b[1;33m     \u001b[0ma\u001b[0m \u001b[1;33m=\u001b[0m \u001b[0mcv2\u001b[0m\u001b[1;33m.\u001b[0m\u001b[0mwaitKey\u001b[0m\u001b[1;33m(\u001b[0m\u001b[1;36m30\u001b[0m\u001b[1;33m)\u001b[0m\u001b[1;33m\u001b[0m\u001b[1;33m\u001b[0m\u001b[0m\n\u001b[0m\u001b[0;32m     59\u001b[0m     \u001b[1;31m#esc누르면 종료\u001b[0m\u001b[1;33m\u001b[0m\u001b[1;33m\u001b[0m\u001b[1;33m\u001b[0m\u001b[0m\n\u001b[0;32m     60\u001b[0m     \u001b[1;32mif\u001b[0m \u001b[0ma\u001b[0m \u001b[1;33m==\u001b[0m \u001b[1;36m27\u001b[0m\u001b[1;33m:\u001b[0m\u001b[1;33m\u001b[0m\u001b[1;33m\u001b[0m\u001b[0m\n",
      "\u001b[1;31mKeyboardInterrupt\u001b[0m: "
     ]
    }
   ],
   "source": [
    "import numpy as np\n",
    "import cv2\n",
    "\n",
    "#얼굴, 눈 hearcascades, 9장\n",
    "face_cascade = cv2.CascadeClassifier('./data/haarcascade_frontalface_default.xml')\n",
    "mouth_cascade = cv2.CascadeClassifier('./data/haarcascade_mcs_mouth.xml')\n",
    "\n",
    "#흑백 변환 경계값 조정 4.3장 스레시 홀딩\n",
    "threshold = 80\n",
    "\n",
    "#메세지\n",
    "font = cv2.FONT_ITALIC\n",
    "pos = (30, 30)\n",
    "yes_mask_color = (255, 0, 0)\n",
    "no_mask_color = (0, 0, 255)\n",
    "yes_mask = \"Thank you\"\n",
    "no_mask = \"Please wear mask\"\n",
    "\n",
    "#캠 읽기\n",
    "cam = cv2.VideoCapture(0)\n",
    "while 1:\n",
    "    #프레임 읽기\n",
    "    ret, img = cam.read()\n",
    "    img = cv2.flip(img, 1) #좌우반전\n",
    "    \n",
    "    #회색으로 변환\n",
    "    gray = cv2.cvtColor(img, cv2.COLOR_BGR2GRAY)\n",
    "    #흑백으로 변환\n",
    "    (thresh, bw) = cv2.threshold(gray, threshold, 255, cv2.THRESH_BINARY)\n",
    "    cv2.imshow('bw', bw)\n",
    "    #얼굴 감지\n",
    "    faces = face_cascade.detectMultiScale(gray, 1.1, 4)\n",
    "    faces_bw = face_cascade.detectMultiScale(bw, 1.1, 4)\n",
    "    \n",
    "    if(len(faces) == 0 and len(faces_bw) == 0): #얼굴이 감지가 안됨\n",
    "        cv2.putText(img, \"Not found face...\", pos, font, 1, (255, 255, 255), 2)\n",
    "    else: #얼굴이 감지됨\n",
    "        for(x, y, w, h) in faces:\n",
    "            cv2.rectangle(img,(x,y), (x + w, y + h), (255, 255, 255), 2)\n",
    "            roi_gray = gray[y:y + h, x:x + w]\n",
    "            roi_color = img[y:y + h, x:x + w]\n",
    "            #입감지\n",
    "            mouth = mouth_cascade.detectMultiScale(gray, 1.5, 5)\n",
    "            \n",
    "        #입이 감지되지 않았을 때 마스크 씀\n",
    "        if(len(mouth) == 0):\n",
    "            cv2.putText(img, yes_mask, pos, font, 1, yes_mask_color, 2)\n",
    "        else: #입이 감지됨\n",
    "            #입술 검출로 입 확인\n",
    "            for(mx, my, mw, mh) in mouth:\n",
    "                if(y < my < y + h):\n",
    "                    #입술이 입 위치에 있따면 마스크를 안쓴 것\n",
    "                    cv2.putText(img, no_mask, pos, font, 1, no_mask_color, 2)\n",
    "                    break\n",
    "    \n",
    "    #보여주기\n",
    "    cv2.imshow('mask', img)\n",
    "    a = cv2.waitKey(30)\n",
    "    #esc누르면 종료\n",
    "    if a == 27:\n",
    "        break\n",
    "\n",
    "#캠 종료\n",
    "cam.release()\n",
    "cv2.destoryAllWindows()"
   ]
  },
  {
   "cell_type": "code",
   "execution_count": null,
   "metadata": {},
   "outputs": [],
   "source": []
  }
 ],
 "metadata": {
  "kernelspec": {
   "display_name": "Python 3",
   "language": "python",
   "name": "python3"
  },
  "language_info": {
   "codemirror_mode": {
    "name": "ipython",
    "version": 3
   },
   "file_extension": ".py",
   "mimetype": "text/x-python",
   "name": "python",
   "nbconvert_exporter": "python",
   "pygments_lexer": "ipython3",
   "version": "3.8.3"
  }
 },
 "nbformat": 4,
 "nbformat_minor": 4
}
